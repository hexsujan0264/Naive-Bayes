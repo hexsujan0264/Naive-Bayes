{
 "cells": [
  {
   "cell_type": "markdown",
   "metadata": {},
   "source": [
    "# Import required pacakges"
   ]
  },
  {
   "cell_type": "code",
   "execution_count": 1,
   "metadata": {},
   "outputs": [],
   "source": [
    "import numpy as np\n",
    "import pandas as pd"
   ]
  },
  {
   "cell_type": "markdown",
   "metadata": {},
   "source": [
    "## Load dataset"
   ]
  },
  {
   "cell_type": "code",
   "execution_count": 2,
   "metadata": {},
   "outputs": [
    {
     "data": {
      "text/plain": [
       "['Congrats, You have won!! reply to our sms for a free nokia mobile + free camcorder. \\tspam',\n",
       " 'Congrats! 1 year special cinema pass for 2 is yours. reply to this sms to claim your prize.\\tspam',\n",
       " 'I am pleased to tell you that you are awarded with a 1500 Bonus Prize, reply to this sms to claim your prize.\\tspam',\n",
       " 'Dont worry. I guess he is busy.\\tnot spam',\n",
       " 'Going for dinner. msg you later.\\tnot spam',\n",
       " 'Ok, I will call you up when I get some cash.\\tnot spam',\n",
       " '']"
      ]
     },
     "execution_count": 2,
     "metadata": {},
     "output_type": "execute_result"
    }
   ],
   "source": [
    "# open the txt file in read mode\n",
    "file = open(\"data2.txt\",\"r\")\n",
    "# read the file \"data2.txt\" and split each\n",
    "# line in the file using newline \n",
    "data = file.read().split(\"\\n\")\n",
    "\n",
    "data"
   ]
  },
  {
   "cell_type": "code",
   "execution_count": 3,
   "metadata": {},
   "outputs": [
    {
     "data": {
      "text/plain": [
       "[['Congrats, You have won!! reply to our sms for a free nokia mobile + free camcorder. ',\n",
       "  'spam'],\n",
       " ['Congrats! 1 year special cinema pass for 2 is yours. reply to this sms to claim your prize.',\n",
       "  'spam'],\n",
       " ['I am pleased to tell you that you are awarded with a 1500 Bonus Prize, reply to this sms to claim your prize.',\n",
       "  'spam'],\n",
       " ['Dont worry. I guess he is busy.', 'not spam'],\n",
       " ['Going for dinner. msg you later.', 'not spam'],\n",
       " ['Ok, I will call you up when I get some cash.', 'not spam'],\n",
       " ['']]"
      ]
     },
     "execution_count": 3,
     "metadata": {},
     "output_type": "execute_result"
    }
   ],
   "source": [
    "# futher split each line using tab\n",
    "data = [d.split(\"\\t\") for d in data]\n",
    "\n",
    "data"
   ]
  },
  {
   "cell_type": "code",
   "execution_count": 4,
   "metadata": {},
   "outputs": [
    {
     "data": {
      "text/plain": [
       "[['Congrats, You have won!! reply to our sms for a free nokia mobile + free camcorder. ',\n",
       "  'spam'],\n",
       " ['Congrats! 1 year special cinema pass for 2 is yours. reply to this sms to claim your prize.',\n",
       "  'spam'],\n",
       " ['I am pleased to tell you that you are awarded with a 1500 Bonus Prize, reply to this sms to claim your prize.',\n",
       "  'spam'],\n",
       " ['Dont worry. I guess he is busy.', 'not spam'],\n",
       " ['Going for dinner. msg you later.', 'not spam'],\n",
       " ['Ok, I will call you up when I get some cash.', 'not spam']]"
      ]
     },
     "execution_count": 4,
     "metadata": {},
     "output_type": "execute_result"
    }
   ],
   "source": [
    "# remove the last list from the data\n",
    "del(data[-1])\n",
    "\n",
    "data"
   ]
  },
  {
   "cell_type": "markdown",
   "metadata": {},
   "source": [
    "## Create a `pandas` dataframe using list"
   ]
  },
  {
   "cell_type": "code",
   "execution_count": 5,
   "metadata": {},
   "outputs": [
    {
     "data": {
      "text/html": [
       "<div>\n",
       "<style scoped>\n",
       "    .dataframe tbody tr th:only-of-type {\n",
       "        vertical-align: middle;\n",
       "    }\n",
       "\n",
       "    .dataframe tbody tr th {\n",
       "        vertical-align: top;\n",
       "    }\n",
       "\n",
       "    .dataframe thead th {\n",
       "        text-align: right;\n",
       "    }\n",
       "</style>\n",
       "<table border=\"1\" class=\"dataframe\">\n",
       "  <thead>\n",
       "    <tr style=\"text-align: right;\">\n",
       "      <th></th>\n",
       "      <th>0</th>\n",
       "      <th>1</th>\n",
       "    </tr>\n",
       "  </thead>\n",
       "  <tbody>\n",
       "    <tr>\n",
       "      <th>0</th>\n",
       "      <td>Congrats, You have won!! reply to our sms for ...</td>\n",
       "      <td>spam</td>\n",
       "    </tr>\n",
       "    <tr>\n",
       "      <th>1</th>\n",
       "      <td>Congrats! 1 year special cinema pass for 2 is ...</td>\n",
       "      <td>spam</td>\n",
       "    </tr>\n",
       "    <tr>\n",
       "      <th>2</th>\n",
       "      <td>I am pleased to tell you that you are awarded ...</td>\n",
       "      <td>spam</td>\n",
       "    </tr>\n",
       "    <tr>\n",
       "      <th>3</th>\n",
       "      <td>Dont worry. I guess he is busy.</td>\n",
       "      <td>not spam</td>\n",
       "    </tr>\n",
       "    <tr>\n",
       "      <th>4</th>\n",
       "      <td>Going for dinner. msg you later.</td>\n",
       "      <td>not spam</td>\n",
       "    </tr>\n",
       "    <tr>\n",
       "      <th>5</th>\n",
       "      <td>Ok, I will call you up when I get some cash.</td>\n",
       "      <td>not spam</td>\n",
       "    </tr>\n",
       "  </tbody>\n",
       "</table>\n",
       "</div>"
      ],
      "text/plain": [
       "                                                   0         1\n",
       "0  Congrats, You have won!! reply to our sms for ...      spam\n",
       "1  Congrats! 1 year special cinema pass for 2 is ...      spam\n",
       "2  I am pleased to tell you that you are awarded ...      spam\n",
       "3                    Dont worry. I guess he is busy.  not spam\n",
       "4                   Going for dinner. msg you later.  not spam\n",
       "5       Ok, I will call you up when I get some cash.  not spam"
      ]
     },
     "execution_count": 5,
     "metadata": {},
     "output_type": "execute_result"
    }
   ],
   "source": [
    "# create a dataframe\n",
    "data_df = pd.DataFrame(data)\n",
    "data_df"
   ]
  },
  {
   "cell_type": "code",
   "execution_count": 6,
   "metadata": {},
   "outputs": [
    {
     "data": {
      "text/html": [
       "<div>\n",
       "<style scoped>\n",
       "    .dataframe tbody tr th:only-of-type {\n",
       "        vertical-align: middle;\n",
       "    }\n",
       "\n",
       "    .dataframe tbody tr th {\n",
       "        vertical-align: top;\n",
       "    }\n",
       "\n",
       "    .dataframe thead th {\n",
       "        text-align: right;\n",
       "    }\n",
       "</style>\n",
       "<table border=\"1\" class=\"dataframe\">\n",
       "  <thead>\n",
       "    <tr style=\"text-align: right;\">\n",
       "      <th></th>\n",
       "      <th>text</th>\n",
       "      <th>label</th>\n",
       "    </tr>\n",
       "  </thead>\n",
       "  <tbody>\n",
       "    <tr>\n",
       "      <th>0</th>\n",
       "      <td>Congrats, You have won!! reply to our sms for ...</td>\n",
       "      <td>spam</td>\n",
       "    </tr>\n",
       "    <tr>\n",
       "      <th>1</th>\n",
       "      <td>Congrats! 1 year special cinema pass for 2 is ...</td>\n",
       "      <td>spam</td>\n",
       "    </tr>\n",
       "    <tr>\n",
       "      <th>2</th>\n",
       "      <td>I am pleased to tell you that you are awarded ...</td>\n",
       "      <td>spam</td>\n",
       "    </tr>\n",
       "    <tr>\n",
       "      <th>3</th>\n",
       "      <td>Dont worry. I guess he is busy.</td>\n",
       "      <td>not spam</td>\n",
       "    </tr>\n",
       "    <tr>\n",
       "      <th>4</th>\n",
       "      <td>Going for dinner. msg you later.</td>\n",
       "      <td>not spam</td>\n",
       "    </tr>\n",
       "    <tr>\n",
       "      <th>5</th>\n",
       "      <td>Ok, I will call you up when I get some cash.</td>\n",
       "      <td>not spam</td>\n",
       "    </tr>\n",
       "  </tbody>\n",
       "</table>\n",
       "</div>"
      ],
      "text/plain": [
       "                                                text     label\n",
       "0  Congrats, You have won!! reply to our sms for ...      spam\n",
       "1  Congrats! 1 year special cinema pass for 2 is ...      spam\n",
       "2  I am pleased to tell you that you are awarded ...      spam\n",
       "3                    Dont worry. I guess he is busy.  not spam\n",
       "4                   Going for dinner. msg you later.  not spam\n",
       "5       Ok, I will call you up when I get some cash.  not spam"
      ]
     },
     "execution_count": 6,
     "metadata": {},
     "output_type": "execute_result"
    }
   ],
   "source": [
    "# assign name to each column in the dataframe\n",
    "data_df.columns = [\"text\",\"label\"]\n",
    "data_df"
   ]
  },
  {
   "cell_type": "markdown",
   "metadata": {},
   "source": [
    "## Data preprocessing\n",
    "\n",
    "Create a dataset suitable for further computations"
   ]
  },
  {
   "cell_type": "code",
   "execution_count": 7,
   "metadata": {},
   "outputs": [
    {
     "name": "stdout",
     "output_type": "stream",
     "text": [
      "Congrats, You have won!! reply to our sms for a free nokia mobile + free camcorder. \n",
      "Congrats! 1 year special cinema pass for 2 is yours. reply to this sms to claim your prize.\n",
      "I am pleased to tell you that you are awarded with a 1500 Bonus Prize, reply to this sms to claim your prize.\n",
      "Dont worry. I guess he is busy.\n",
      "Going for dinner. msg you later.\n",
      "Ok, I will call you up when I get some cash.\n"
     ]
    }
   ],
   "source": [
    "vocab = []\n",
    "text_vector = []\n",
    "\n",
    "for each in data_df[\"text\"]:\n",
    "    print(each)\n",
    "    # collect vocabularies (or words) from input \n",
    "    # datafile and store in a list called vocab\n",
    "    vocab.extend(each.lower().\\\n",
    "                 replace(\".\",\"\").\\\n",
    "                 replace(\",\",\"\").\\\n",
    "                 replace(\"+\",\"\").\\\n",
    "                 replace(\"!\",\"\").\\\n",
    "                 replace(\"1\",\"\").\\\n",
    "                 replace(\"1500\",\"\").\\\n",
    "                 replace(\"2\",\"\").\\\n",
    "                 split())\n",
    "    # collect vocabularies (or words) from input \n",
    "    # datafile, however store words in each line \n",
    "    # in a list called text_vector\n",
    "    text_vector.append(each.lower().\\\n",
    "                       replace(\".\",\"\").\\\n",
    "                       replace(\",\",\"\").\\\n",
    "                       replace(\"+\",\"\").\\\n",
    "                       replace(\"!\",\"\").\\\n",
    "                       replace(\"1\",\"\").\\\n",
    "                       replace(\"1500\",\"\").\\\n",
    "                       replace(\"2\",\"\").\\\n",
    "                       split())"
   ]
  },
  {
   "cell_type": "markdown",
   "metadata": {},
   "source": [
    "### Display all words presented in the input file"
   ]
  },
  {
   "cell_type": "code",
   "execution_count": 8,
   "metadata": {
    "scrolled": true
   },
   "outputs": [
    {
     "name": "stdout",
     "output_type": "stream",
     "text": [
      "['congrats', 'you', 'have', 'won', 'reply', 'to', 'our', 'sms', 'for', 'a', 'free', 'nokia', 'mobile', 'free', 'camcorder', 'congrats', 'year', 'special', 'cinema', 'pass', 'for', 'is', 'yours', 'reply', 'to', 'this', 'sms', 'to', 'claim', 'your', 'prize', 'i', 'am', 'pleased', 'to', 'tell', 'you', 'that', 'you', 'are', 'awarded', 'with', 'a', '500', 'bonus', 'prize', 'reply', 'to', 'this', 'sms', 'to', 'claim', 'your', 'prize', 'dont', 'worry', 'i', 'guess', 'he', 'is', 'busy', 'going', 'for', 'dinner', 'msg', 'you', 'later', 'ok', 'i', 'will', 'call', 'you', 'up', 'when', 'i', 'get', 'some', 'cash']\n"
     ]
    }
   ],
   "source": [
    "print(vocab)"
   ]
  },
  {
   "cell_type": "code",
   "execution_count": 9,
   "metadata": {},
   "outputs": [
    {
     "data": {
      "text/plain": [
       "78"
      ]
     },
     "execution_count": 9,
     "metadata": {},
     "output_type": "execute_result"
    }
   ],
   "source": [
    "len(vocab)"
   ]
  },
  {
   "cell_type": "code",
   "execution_count": 10,
   "metadata": {
    "scrolled": true
   },
   "outputs": [
    {
     "name": "stdout",
     "output_type": "stream",
     "text": [
      "['prize', 'a', 'call', 'cinema', 'with', 'guess', 'won', 'get', 'awarded', 'to', 'cash', 'nokia', 'pleased', 'am', 'mobile', 'later', 'is', 'he', 'have', 'some', 'ok', 'worry', 'our', 'for', 'msg', 'congrats', 'dinner', 'camcorder', 'your', '500', 'dont', 'claim', 'pass', 'that', 'reply', 'tell', 'year', 'busy', 'sms', 'are', 'special', 'i', 'will', 'free', 'bonus', 'you', 'yours', 'up', 'going', 'when', 'this']\n"
     ]
    }
   ],
   "source": [
    "# remove dublicates words \n",
    "vocab = list(set(vocab))\n",
    "print(vocab)"
   ]
  },
  {
   "cell_type": "code",
   "execution_count": 11,
   "metadata": {},
   "outputs": [
    {
     "data": {
      "text/plain": [
       "51"
      ]
     },
     "execution_count": 11,
     "metadata": {},
     "output_type": "execute_result"
    }
   ],
   "source": [
    "len(vocab)"
   ]
  },
  {
   "cell_type": "markdown",
   "metadata": {},
   "source": [
    "### Display words in each line from the input file"
   ]
  },
  {
   "cell_type": "code",
   "execution_count": 12,
   "metadata": {},
   "outputs": [
    {
     "name": "stdout",
     "output_type": "stream",
     "text": [
      "[['congrats', 'you', 'have', 'won', 'reply', 'to', 'our', 'sms', 'for', 'a', 'free', 'nokia', 'mobile', 'free', 'camcorder'], ['congrats', 'year', 'special', 'cinema', 'pass', 'for', 'is', 'yours', 'reply', 'to', 'this', 'sms', 'to', 'claim', 'your', 'prize'], ['i', 'am', 'pleased', 'to', 'tell', 'you', 'that', 'you', 'are', 'awarded', 'with', 'a', '500', 'bonus', 'prize', 'reply', 'to', 'this', 'sms', 'to', 'claim', 'your', 'prize'], ['dont', 'worry', 'i', 'guess', 'he', 'is', 'busy'], ['going', 'for', 'dinner', 'msg', 'you', 'later'], ['ok', 'i', 'will', 'call', 'you', 'up', 'when', 'i', 'get', 'some', 'cash']]\n"
     ]
    }
   ],
   "source": [
    "print(text_vector)"
   ]
  },
  {
   "cell_type": "markdown",
   "metadata": {},
   "source": [
    "### Create a list of list containing number of words presented in each sentence or line "
   ]
  },
  {
   "cell_type": "code",
   "execution_count": 13,
   "metadata": {},
   "outputs": [],
   "source": [
    "text_vector_num = []\n",
    "for text in text_vector:\n",
    "    vector = []\n",
    "    # count number of words presented in vocabulary for each line\n",
    "    for word in vocab:\n",
    "        vector.append(text.count(word))\n",
    "    text_vector_num.append(vector)"
   ]
  },
  {
   "cell_type": "code",
   "execution_count": 14,
   "metadata": {},
   "outputs": [
    {
     "data": {
      "text/plain": [
       "51"
      ]
     },
     "execution_count": 14,
     "metadata": {},
     "output_type": "execute_result"
    }
   ],
   "source": [
    "len(text_vector_num[0])"
   ]
  },
  {
   "cell_type": "code",
   "execution_count": 15,
   "metadata": {
    "scrolled": true
   },
   "outputs": [
    {
     "name": "stdout",
     "output_type": "stream",
     "text": [
      "[0, 1, 0, 0, 0, 0, 1, 0, 0, 1, 0, 1, 0, 0, 1, 0, 0, 0, 1, 0, 0, 0, 1, 1, 0, 1, 0, 1, 0, 0, 0, 0, 0, 0, 1, 0, 0, 0, 1, 0, 0, 0, 0, 2, 0, 1, 0, 0, 0, 0, 0]\n"
     ]
    }
   ],
   "source": [
    "print(text_vector_num[0])"
   ]
  },
  {
   "cell_type": "code",
   "execution_count": 16,
   "metadata": {},
   "outputs": [
    {
     "name": "stdout",
     "output_type": "stream",
     "text": [
      "[0, 1, 0, 0, 0, 0, 1, 0, 0, 1, 0, 1, 0, 0, 1, 0, 0, 0, 1, 0, 0, 0, 1, 1, 0, 1, 0, 1, 0, 0, 0, 0, 0, 0, 1, 0, 0, 0, 1, 0, 0, 0, 0, 2, 0, 1, 0, 0, 0, 0, 0]\n",
      "[1, 0, 0, 1, 0, 0, 0, 0, 0, 2, 0, 0, 0, 0, 0, 0, 1, 0, 0, 0, 0, 0, 0, 1, 0, 1, 0, 0, 1, 0, 0, 1, 1, 0, 1, 0, 1, 0, 1, 0, 1, 0, 0, 0, 0, 0, 1, 0, 0, 0, 1]\n",
      "[2, 1, 0, 0, 1, 0, 0, 0, 1, 3, 0, 0, 1, 1, 0, 0, 0, 0, 0, 0, 0, 0, 0, 0, 0, 0, 0, 0, 1, 1, 0, 1, 0, 1, 1, 1, 0, 0, 1, 1, 0, 1, 0, 0, 1, 2, 0, 0, 0, 0, 1]\n",
      "[0, 0, 0, 0, 0, 1, 0, 0, 0, 0, 0, 0, 0, 0, 0, 0, 1, 1, 0, 0, 0, 1, 0, 0, 0, 0, 0, 0, 0, 0, 1, 0, 0, 0, 0, 0, 0, 1, 0, 0, 0, 1, 0, 0, 0, 0, 0, 0, 0, 0, 0]\n",
      "[0, 0, 0, 0, 0, 0, 0, 0, 0, 0, 0, 0, 0, 0, 0, 1, 0, 0, 0, 0, 0, 0, 0, 1, 1, 0, 1, 0, 0, 0, 0, 0, 0, 0, 0, 0, 0, 0, 0, 0, 0, 0, 0, 0, 0, 1, 0, 0, 1, 0, 0]\n",
      "[0, 0, 1, 0, 0, 0, 0, 1, 0, 0, 1, 0, 0, 0, 0, 0, 0, 0, 0, 1, 1, 0, 0, 0, 0, 0, 0, 0, 0, 0, 0, 0, 0, 0, 0, 0, 0, 0, 0, 0, 0, 2, 1, 0, 0, 1, 0, 1, 0, 1, 0]\n"
     ]
    }
   ],
   "source": [
    "# Display new representation of each sentence in the dataset\n",
    "for each in text_vector_num:\n",
    "    print(each)"
   ]
  },
  {
   "cell_type": "code",
   "execution_count": 17,
   "metadata": {},
   "outputs": [
    {
     "name": "stdout",
     "output_type": "stream",
     "text": [
      "[['prize', 'a', 'call', 'cinema', 'with', 'guess', 'won', 'get', 'awarded', 'to', 'cash', 'nokia', 'pleased', 'am', 'mobile', 'later', 'is', 'he', 'have', 'some', 'ok', 'worry', 'our', 'for', 'msg', 'congrats', 'dinner', 'camcorder', 'your', '500', 'dont', 'claim', 'pass', 'that', 'reply', 'tell', 'year', 'busy', 'sms', 'are', 'special', 'i', 'will', 'free', 'bonus', 'you', 'yours', 'up', 'going', 'when', 'this'], [0, 1, 0, 0, 0, 0, 1, 0, 0, 1, 0, 1, 0, 0, 1, 0, 0, 0, 1, 0, 0, 0, 1, 1, 0, 1, 0, 1, 0, 0, 0, 0, 0, 0, 1, 0, 0, 0, 1, 0, 0, 0, 0, 2, 0, 1, 0, 0, 0, 0, 0], [1, 0, 0, 1, 0, 0, 0, 0, 0, 2, 0, 0, 0, 0, 0, 0, 1, 0, 0, 0, 0, 0, 0, 1, 0, 1, 0, 0, 1, 0, 0, 1, 1, 0, 1, 0, 1, 0, 1, 0, 1, 0, 0, 0, 0, 0, 1, 0, 0, 0, 1], [2, 1, 0, 0, 1, 0, 0, 0, 1, 3, 0, 0, 1, 1, 0, 0, 0, 0, 0, 0, 0, 0, 0, 0, 0, 0, 0, 0, 1, 1, 0, 1, 0, 1, 1, 1, 0, 0, 1, 1, 0, 1, 0, 0, 1, 2, 0, 0, 0, 0, 1], [0, 0, 0, 0, 0, 1, 0, 0, 0, 0, 0, 0, 0, 0, 0, 0, 1, 1, 0, 0, 0, 1, 0, 0, 0, 0, 0, 0, 0, 0, 1, 0, 0, 0, 0, 0, 0, 1, 0, 0, 0, 1, 0, 0, 0, 0, 0, 0, 0, 0, 0], [0, 0, 0, 0, 0, 0, 0, 0, 0, 0, 0, 0, 0, 0, 0, 1, 0, 0, 0, 0, 0, 0, 0, 1, 1, 0, 1, 0, 0, 0, 0, 0, 0, 0, 0, 0, 0, 0, 0, 0, 0, 0, 0, 0, 0, 1, 0, 0, 1, 0, 0], [0, 0, 1, 0, 0, 0, 0, 1, 0, 0, 1, 0, 0, 0, 0, 0, 0, 0, 0, 1, 1, 0, 0, 0, 0, 0, 0, 0, 0, 0, 0, 0, 0, 0, 0, 0, 0, 0, 0, 0, 0, 2, 1, 0, 0, 1, 0, 1, 0, 1, 0]]\n"
     ]
    }
   ],
   "source": [
    "# insert vocabulary list at index 0\n",
    "text_vector_num.insert(0, vocab)\n",
    "print(text_vector_num)"
   ]
  },
  {
   "cell_type": "markdown",
   "metadata": {},
   "source": [
    "### Save data in Excel format\n",
    "\n",
    "Create a pandas dataframe using numerical text_vector and save the resulting output into an excel file"
   ]
  },
  {
   "cell_type": "code",
   "execution_count": 18,
   "metadata": {},
   "outputs": [
    {
     "data": {
      "text/html": [
       "<div>\n",
       "<style scoped>\n",
       "    .dataframe tbody tr th:only-of-type {\n",
       "        vertical-align: middle;\n",
       "    }\n",
       "\n",
       "    .dataframe tbody tr th {\n",
       "        vertical-align: top;\n",
       "    }\n",
       "\n",
       "    .dataframe thead th {\n",
       "        text-align: right;\n",
       "    }\n",
       "</style>\n",
       "<table border=\"1\" class=\"dataframe\">\n",
       "  <thead>\n",
       "    <tr style=\"text-align: right;\">\n",
       "      <th></th>\n",
       "      <th>0</th>\n",
       "      <th>1</th>\n",
       "      <th>2</th>\n",
       "      <th>3</th>\n",
       "      <th>4</th>\n",
       "      <th>5</th>\n",
       "      <th>6</th>\n",
       "      <th>7</th>\n",
       "      <th>8</th>\n",
       "      <th>9</th>\n",
       "      <th>...</th>\n",
       "      <th>41</th>\n",
       "      <th>42</th>\n",
       "      <th>43</th>\n",
       "      <th>44</th>\n",
       "      <th>45</th>\n",
       "      <th>46</th>\n",
       "      <th>47</th>\n",
       "      <th>48</th>\n",
       "      <th>49</th>\n",
       "      <th>50</th>\n",
       "    </tr>\n",
       "  </thead>\n",
       "  <tbody>\n",
       "    <tr>\n",
       "      <th>0</th>\n",
       "      <td>prize</td>\n",
       "      <td>a</td>\n",
       "      <td>call</td>\n",
       "      <td>cinema</td>\n",
       "      <td>with</td>\n",
       "      <td>guess</td>\n",
       "      <td>won</td>\n",
       "      <td>get</td>\n",
       "      <td>awarded</td>\n",
       "      <td>to</td>\n",
       "      <td>...</td>\n",
       "      <td>i</td>\n",
       "      <td>will</td>\n",
       "      <td>free</td>\n",
       "      <td>bonus</td>\n",
       "      <td>you</td>\n",
       "      <td>yours</td>\n",
       "      <td>up</td>\n",
       "      <td>going</td>\n",
       "      <td>when</td>\n",
       "      <td>this</td>\n",
       "    </tr>\n",
       "    <tr>\n",
       "      <th>1</th>\n",
       "      <td>0</td>\n",
       "      <td>1</td>\n",
       "      <td>0</td>\n",
       "      <td>0</td>\n",
       "      <td>0</td>\n",
       "      <td>0</td>\n",
       "      <td>1</td>\n",
       "      <td>0</td>\n",
       "      <td>0</td>\n",
       "      <td>1</td>\n",
       "      <td>...</td>\n",
       "      <td>0</td>\n",
       "      <td>0</td>\n",
       "      <td>2</td>\n",
       "      <td>0</td>\n",
       "      <td>1</td>\n",
       "      <td>0</td>\n",
       "      <td>0</td>\n",
       "      <td>0</td>\n",
       "      <td>0</td>\n",
       "      <td>0</td>\n",
       "    </tr>\n",
       "    <tr>\n",
       "      <th>2</th>\n",
       "      <td>1</td>\n",
       "      <td>0</td>\n",
       "      <td>0</td>\n",
       "      <td>1</td>\n",
       "      <td>0</td>\n",
       "      <td>0</td>\n",
       "      <td>0</td>\n",
       "      <td>0</td>\n",
       "      <td>0</td>\n",
       "      <td>2</td>\n",
       "      <td>...</td>\n",
       "      <td>0</td>\n",
       "      <td>0</td>\n",
       "      <td>0</td>\n",
       "      <td>0</td>\n",
       "      <td>0</td>\n",
       "      <td>1</td>\n",
       "      <td>0</td>\n",
       "      <td>0</td>\n",
       "      <td>0</td>\n",
       "      <td>1</td>\n",
       "    </tr>\n",
       "    <tr>\n",
       "      <th>3</th>\n",
       "      <td>2</td>\n",
       "      <td>1</td>\n",
       "      <td>0</td>\n",
       "      <td>0</td>\n",
       "      <td>1</td>\n",
       "      <td>0</td>\n",
       "      <td>0</td>\n",
       "      <td>0</td>\n",
       "      <td>1</td>\n",
       "      <td>3</td>\n",
       "      <td>...</td>\n",
       "      <td>1</td>\n",
       "      <td>0</td>\n",
       "      <td>0</td>\n",
       "      <td>1</td>\n",
       "      <td>2</td>\n",
       "      <td>0</td>\n",
       "      <td>0</td>\n",
       "      <td>0</td>\n",
       "      <td>0</td>\n",
       "      <td>1</td>\n",
       "    </tr>\n",
       "    <tr>\n",
       "      <th>4</th>\n",
       "      <td>0</td>\n",
       "      <td>0</td>\n",
       "      <td>0</td>\n",
       "      <td>0</td>\n",
       "      <td>0</td>\n",
       "      <td>1</td>\n",
       "      <td>0</td>\n",
       "      <td>0</td>\n",
       "      <td>0</td>\n",
       "      <td>0</td>\n",
       "      <td>...</td>\n",
       "      <td>1</td>\n",
       "      <td>0</td>\n",
       "      <td>0</td>\n",
       "      <td>0</td>\n",
       "      <td>0</td>\n",
       "      <td>0</td>\n",
       "      <td>0</td>\n",
       "      <td>0</td>\n",
       "      <td>0</td>\n",
       "      <td>0</td>\n",
       "    </tr>\n",
       "    <tr>\n",
       "      <th>5</th>\n",
       "      <td>0</td>\n",
       "      <td>0</td>\n",
       "      <td>0</td>\n",
       "      <td>0</td>\n",
       "      <td>0</td>\n",
       "      <td>0</td>\n",
       "      <td>0</td>\n",
       "      <td>0</td>\n",
       "      <td>0</td>\n",
       "      <td>0</td>\n",
       "      <td>...</td>\n",
       "      <td>0</td>\n",
       "      <td>0</td>\n",
       "      <td>0</td>\n",
       "      <td>0</td>\n",
       "      <td>1</td>\n",
       "      <td>0</td>\n",
       "      <td>0</td>\n",
       "      <td>1</td>\n",
       "      <td>0</td>\n",
       "      <td>0</td>\n",
       "    </tr>\n",
       "    <tr>\n",
       "      <th>6</th>\n",
       "      <td>0</td>\n",
       "      <td>0</td>\n",
       "      <td>1</td>\n",
       "      <td>0</td>\n",
       "      <td>0</td>\n",
       "      <td>0</td>\n",
       "      <td>0</td>\n",
       "      <td>1</td>\n",
       "      <td>0</td>\n",
       "      <td>0</td>\n",
       "      <td>...</td>\n",
       "      <td>2</td>\n",
       "      <td>1</td>\n",
       "      <td>0</td>\n",
       "      <td>0</td>\n",
       "      <td>1</td>\n",
       "      <td>0</td>\n",
       "      <td>1</td>\n",
       "      <td>0</td>\n",
       "      <td>1</td>\n",
       "      <td>0</td>\n",
       "    </tr>\n",
       "  </tbody>\n",
       "</table>\n",
       "<p>7 rows × 51 columns</p>\n",
       "</div>"
      ],
      "text/plain": [
       "      0  1     2       3     4      5    6    7        8   9   ... 41    42  \\\n",
       "0  prize  a  call  cinema  with  guess  won  get  awarded  to  ...  i  will   \n",
       "1      0  1     0       0     0      0    1    0        0   1  ...  0     0   \n",
       "2      1  0     0       1     0      0    0    0        0   2  ...  0     0   \n",
       "3      2  1     0       0     1      0    0    0        1   3  ...  1     0   \n",
       "4      0  0     0       0     0      1    0    0        0   0  ...  1     0   \n",
       "5      0  0     0       0     0      0    0    0        0   0  ...  0     0   \n",
       "6      0  0     1       0     0      0    0    1        0   0  ...  2     1   \n",
       "\n",
       "     43     44   45     46  47     48    49    50  \n",
       "0  free  bonus  you  yours  up  going  when  this  \n",
       "1     2      0    1      0   0      0     0     0  \n",
       "2     0      0    0      1   0      0     0     1  \n",
       "3     0      1    2      0   0      0     0     1  \n",
       "4     0      0    0      0   0      0     0     0  \n",
       "5     0      0    1      0   0      1     0     0  \n",
       "6     0      0    1      0   1      0     1     0  \n",
       "\n",
       "[7 rows x 51 columns]"
      ]
     },
     "execution_count": 18,
     "metadata": {},
     "output_type": "execute_result"
    }
   ],
   "source": [
    "# create dataframe\n",
    "counts = pd.DataFrame(text_vector_num)\n",
    "# save dataframe into an excel file\n",
    "counts.to_excel(\"counts.xlsx\")\n",
    "counts"
   ]
  },
  {
   "cell_type": "code",
   "execution_count": 19,
   "metadata": {},
   "outputs": [
    {
     "name": "stdout",
     "output_type": "stream",
     "text": [
      "51\n"
     ]
    }
   ],
   "source": [
    "print(len(text_vector_num[0]))"
   ]
  },
  {
   "cell_type": "code",
   "execution_count": 20,
   "metadata": {},
   "outputs": [
    {
     "name": "stdout",
     "output_type": "stream",
     "text": [
      "51\n"
     ]
    }
   ],
   "source": [
    "print(len(vocab))"
   ]
  },
  {
   "cell_type": "markdown",
   "metadata": {},
   "source": [
    "### Display `numerical vectors` correspondind to `spam` messages"
   ]
  },
  {
   "cell_type": "code",
   "execution_count": 21,
   "metadata": {},
   "outputs": [
    {
     "name": "stdout",
     "output_type": "stream",
     "text": [
      "Spam message vectors \n",
      " [[0 1 0 0 0 0 1 0 0 1 0 1 0 0 1 0 0 0 1 0 0 0 1 1 0 1 0 1 0 0 0 0 0 0 1 0\n",
      "  0 0 1 0 0 0 0 2 0 1 0 0 0 0 0]\n",
      " [1 0 0 1 0 0 0 0 0 2 0 0 0 0 0 0 1 0 0 0 0 0 0 1 0 1 0 0 1 0 0 1 1 0 1 0\n",
      "  1 0 1 0 1 0 0 0 0 0 1 0 0 0 1]\n",
      " [2 1 0 0 1 0 0 0 1 3 0 0 1 1 0 0 0 0 0 0 0 0 0 0 0 0 0 0 1 1 0 1 0 1 1 1\n",
      "  0 0 1 1 0 1 0 0 1 2 0 0 0 0 1]]\n",
      "\n"
     ]
    }
   ],
   "source": [
    "# get spam message vector\n",
    "spam = np.array(text_vector_num[1:4])\n",
    "print('Spam message vectors \\n', spam)\n",
    "print()"
   ]
  },
  {
   "cell_type": "markdown",
   "metadata": {},
   "source": [
    "### Display `numerical vectors` correspondind to `non-spam` messages"
   ]
  },
  {
   "cell_type": "code",
   "execution_count": 22,
   "metadata": {},
   "outputs": [
    {
     "name": "stdout",
     "output_type": "stream",
     "text": [
      "Ham message vectors \n",
      " [[0 0 0 0 0 1 0 0 0 0 0 0 0 0 0 0 1 1 0 0 0 1 0 0 0 0 0 0 0 0 1 0 0 0 0 0\n",
      "  0 1 0 0 0 1 0 0 0 0 0 0 0 0 0]\n",
      " [0 0 0 0 0 0 0 0 0 0 0 0 0 0 0 1 0 0 0 0 0 0 0 1 1 0 1 0 0 0 0 0 0 0 0 0\n",
      "  0 0 0 0 0 0 0 0 0 1 0 0 1 0 0]\n",
      " [0 0 1 0 0 0 0 1 0 0 1 0 0 0 0 0 0 0 0 1 1 0 0 0 0 0 0 0 0 0 0 0 0 0 0 0\n",
      "  0 0 0 0 0 2 1 0 0 1 0 1 0 1 0]]\n"
     ]
    }
   ],
   "source": [
    "# get non-span message vector\n",
    "ham = np.array(text_vector_num[4:])\n",
    "print('Ham message vectors \\n', ham)"
   ]
  },
  {
   "cell_type": "markdown",
   "metadata": {},
   "source": [
    "### Compute $𝑝(w_k│spam)$\n",
    "\n",
    "Probability that a given word ($w_k$ or feature) comes from `spam` messages\n"
   ]
  },
  {
   "cell_type": "markdown",
   "metadata": {},
   "source": [
    "#### Number of times a particular word occur in `spam` messages\n",
    "\n",
    "$n_k$"
   ]
  },
  {
   "cell_type": "code",
   "execution_count": 23,
   "metadata": {},
   "outputs": [
    {
     "data": {
      "text/plain": [
       "array([3, 2, 0, 1, 1, 0, 1, 0, 1, 6, 0, 1, 1, 1, 1, 0, 1, 0, 1, 0, 0, 0,\n",
       "       1, 2, 0, 2, 0, 1, 2, 1, 0, 2, 1, 1, 3, 1, 1, 0, 3, 1, 1, 1, 0, 2,\n",
       "       1, 3, 1, 0, 0, 0, 2])"
      ]
     },
     "execution_count": 23,
     "metadata": {},
     "output_type": "execute_result"
    }
   ],
   "source": [
    "#### Check the formula in slide 43 (lecture slide)\n",
    "nk_spam = np.sum(spam,axis=0) \n",
    "nk_spam"
   ]
  },
  {
   "cell_type": "markdown",
   "metadata": {},
   "source": [
    "#### Number of words in `spam` messages\n",
    "\n",
    "$n_{spam}$ "
   ]
  },
  {
   "cell_type": "code",
   "execution_count": 24,
   "metadata": {},
   "outputs": [
    {
     "data": {
      "text/plain": [
       "54"
      ]
     },
     "execution_count": 24,
     "metadata": {},
     "output_type": "execute_result"
    }
   ],
   "source": [
    "#### Check the formula in slide 43 (lecture slide)\n",
    "n_spam = np.sum(spam) \n",
    "n_spam"
   ]
  },
  {
   "cell_type": "code",
   "execution_count": 25,
   "metadata": {},
   "outputs": [
    {
     "data": {
      "text/plain": [
       "array([0.03809524, 0.02857143, 0.00952381, 0.01904762, 0.01904762,\n",
       "       0.00952381, 0.01904762, 0.00952381, 0.01904762, 0.06666667,\n",
       "       0.00952381, 0.01904762, 0.01904762, 0.01904762, 0.01904762,\n",
       "       0.00952381, 0.01904762, 0.00952381, 0.01904762, 0.00952381,\n",
       "       0.00952381, 0.00952381, 0.01904762, 0.02857143, 0.00952381,\n",
       "       0.02857143, 0.00952381, 0.01904762, 0.02857143, 0.01904762,\n",
       "       0.00952381, 0.02857143, 0.01904762, 0.01904762, 0.03809524,\n",
       "       0.01904762, 0.01904762, 0.00952381, 0.03809524, 0.01904762,\n",
       "       0.01904762, 0.01904762, 0.00952381, 0.02857143, 0.01904762,\n",
       "       0.03809524, 0.01904762, 0.00952381, 0.00952381, 0.00952381,\n",
       "       0.02857143])"
      ]
     },
     "execution_count": 25,
     "metadata": {},
     "output_type": "execute_result"
    }
   ],
   "source": [
    "prob_of_wk_given_spam_message = (nk_spam + 1) / (n_spam + len(vocab))\n",
    "prob_of_wk_given_spam_message"
   ]
  },
  {
   "cell_type": "markdown",
   "metadata": {},
   "source": [
    "### Compute $𝑝(w_k│ham)$\n",
    "\n",
    "Probability that a given word ($w_k$ or feature) comes from **ham** messages\n"
   ]
  },
  {
   "cell_type": "markdown",
   "metadata": {},
   "source": [
    "#### Number of times a particular word occur in `ham` messages\n",
    "\n",
    "$n_k$"
   ]
  },
  {
   "cell_type": "code",
   "execution_count": 26,
   "metadata": {},
   "outputs": [
    {
     "data": {
      "text/plain": [
       "array([0, 0, 1, 0, 0, 1, 0, 1, 0, 0, 1, 0, 0, 0, 0, 1, 1, 1, 0, 1, 1, 1,\n",
       "       0, 1, 1, 0, 1, 0, 0, 0, 1, 0, 0, 0, 0, 0, 0, 1, 0, 0, 0, 3, 1, 0,\n",
       "       0, 2, 0, 1, 1, 1, 0])"
      ]
     },
     "execution_count": 26,
     "metadata": {},
     "output_type": "execute_result"
    }
   ],
   "source": [
    "nk_ham = np.sum(ham,axis=0) \n",
    "nk_ham"
   ]
  },
  {
   "cell_type": "markdown",
   "metadata": {},
   "source": [
    "#### Number of words in `ham` messages\n",
    "\n",
    "$n_{ham}$ "
   ]
  },
  {
   "cell_type": "code",
   "execution_count": 27,
   "metadata": {},
   "outputs": [
    {
     "data": {
      "text/plain": [
       "24"
      ]
     },
     "execution_count": 27,
     "metadata": {},
     "output_type": "execute_result"
    }
   ],
   "source": [
    "#### Check the formula in slide 43 (lecture slide)\n",
    "n_ham = np.sum(ham) \n",
    "n_ham"
   ]
  },
  {
   "cell_type": "code",
   "execution_count": 28,
   "metadata": {},
   "outputs": [
    {
     "data": {
      "text/plain": [
       "array([0.01333333, 0.01333333, 0.02666667, 0.01333333, 0.01333333,\n",
       "       0.02666667, 0.01333333, 0.02666667, 0.01333333, 0.01333333,\n",
       "       0.02666667, 0.01333333, 0.01333333, 0.01333333, 0.01333333,\n",
       "       0.02666667, 0.02666667, 0.02666667, 0.01333333, 0.02666667,\n",
       "       0.02666667, 0.02666667, 0.01333333, 0.02666667, 0.02666667,\n",
       "       0.01333333, 0.02666667, 0.01333333, 0.01333333, 0.01333333,\n",
       "       0.02666667, 0.01333333, 0.01333333, 0.01333333, 0.01333333,\n",
       "       0.01333333, 0.01333333, 0.02666667, 0.01333333, 0.01333333,\n",
       "       0.01333333, 0.05333333, 0.02666667, 0.01333333, 0.01333333,\n",
       "       0.04      , 0.01333333, 0.02666667, 0.02666667, 0.02666667,\n",
       "       0.01333333])"
      ]
     },
     "execution_count": 28,
     "metadata": {},
     "output_type": "execute_result"
    }
   ],
   "source": [
    "prob_of_wk_given_ham_message = (nk_ham + 1) / (n_ham + len(vocab))\n",
    "prob_of_wk_given_ham_message"
   ]
  },
  {
   "cell_type": "markdown",
   "metadata": {},
   "source": [
    "### Compute probabilities of a message being `spam` and `ham`\n",
    "\n",
    "There are six messages in the file. Out of six messages, 3 are spam and rest of the messages are ham or non-spam."
   ]
  },
  {
   "cell_type": "code",
   "execution_count": 29,
   "metadata": {},
   "outputs": [
    {
     "data": {
      "text/plain": [
       "(0.5, 0.5)"
      ]
     },
     "execution_count": 29,
     "metadata": {},
     "output_type": "execute_result"
    }
   ],
   "source": [
    "prob_message_is_spam,prob_message_is_ham = 3/6,3/6\n",
    "prob_message_is_spam,prob_message_is_ham"
   ]
  },
  {
   "cell_type": "code",
   "execution_count": 30,
   "metadata": {},
   "outputs": [
    {
     "data": {
      "text/plain": [
       "54"
      ]
     },
     "execution_count": 30,
     "metadata": {},
     "output_type": "execute_result"
    }
   ],
   "source": [
    "# Number of words in spam messages\n",
    "np.sum(spam)"
   ]
  },
  {
   "cell_type": "code",
   "execution_count": 31,
   "metadata": {},
   "outputs": [
    {
     "data": {
      "text/plain": [
       "51"
      ]
     },
     "execution_count": 31,
     "metadata": {},
     "output_type": "execute_result"
    }
   ],
   "source": [
    "# Number of words in the vocabulary\n",
    "len(vocab)"
   ]
  },
  {
   "cell_type": "code",
   "execution_count": 32,
   "metadata": {},
   "outputs": [
    {
     "data": {
      "text/plain": [
       "24"
      ]
     },
     "execution_count": 32,
     "metadata": {},
     "output_type": "execute_result"
    }
   ],
   "source": [
    "# Number of words in the ham messages\n",
    "np.sum(ham)"
   ]
  },
  {
   "cell_type": "markdown",
   "metadata": {},
   "source": [
    "### Create new sample messages and process them"
   ]
  },
  {
   "cell_type": "code",
   "execution_count": 33,
   "metadata": {},
   "outputs": [
    {
     "data": {
      "text/plain": [
       "[['i', 'am', 'busy', 'i', 'will', 'msg', 'you', 'later'],\n",
       " ['congrats', 'you', 'are', 'awarded', 'a', 'free', 'mobile']]"
      ]
     },
     "execution_count": 33,
     "metadata": {},
     "output_type": "execute_result"
    }
   ],
   "source": [
    "new = [\"I am busy. I will msg you later.\",\"Congrats! You are awarded a free mobile.\"]\n",
    "new_words= []\n",
    "for each in new:\n",
    "    processed = each.lower().replace(\".\",\"\").replace(\",\",\"\").replace(\"+\",\"\").replace(\"!\",\"\").split()\n",
    "    new_words.append(processed)\n",
    "new_words"
   ]
  },
  {
   "cell_type": "markdown",
   "metadata": {},
   "source": [
    "### Prediction"
   ]
  },
  {
   "cell_type": "code",
   "execution_count": 34,
   "metadata": {},
   "outputs": [],
   "source": [
    "def predict(message_list,prob_spam,prob_ham,prob_of_feature_given_spam_message,prob_of_feature_given_ham_message,vocab):\n",
    "    \"\"\"\n",
    "    Returns whether or not the given message (a list of words) is spam or ham\n",
    "    \n",
    "    \n",
    "    Input Parameters\n",
    "    ---------\n",
    "    \n",
    "    message_list: a list of words\n",
    "    \n",
    "    prob_spam: a float\n",
    "    \n",
    "    prob_ham: a float\n",
    "    \n",
    "    prob_of_feature_given_spam_message: an numpy array\n",
    "    \n",
    "    prob_of_feature_given_ham_message: an numpy array\n",
    "    \n",
    "    vocab: a list of words    \n",
    "             \n",
    "    \n",
    "    \"\"\"\n",
    "    spam = prob_spam\n",
    "    ham = prob_ham\n",
    "    # compute 𝑝(𝑦) * ∏(𝑗=1 to 𝑑) 𝑝(𝑎_𝑗│𝑦)\n",
    "    \n",
    "    for word in message_list:\n",
    "        spam *= prob_of_feature_given_spam_message[vocab.index(word)]\n",
    "        ham *= prob_of_feature_given_ham_message[vocab.index(word)]\n",
    "     \n",
    "    print('-----------------------------------------')\n",
    "    print('The given message: ', \" \".join(message_list))\n",
    "    print()\n",
    "    print('Prob that the given message is spam = ',spam)\n",
    "    print()\n",
    "    print('Prob that the given message is ham = ',ham)\n",
    "    print('------------------------------------------')\n",
    "    \n",
    "    \n",
    "    if spam > ham:\n",
    "        return \" \".join(message_list),\"spam\"\n",
    "    else:\n",
    "        return \" \".join(message_list),\"ham\""
   ]
  },
  {
   "cell_type": "code",
   "execution_count": 35,
   "metadata": {},
   "outputs": [
    {
     "name": "stdout",
     "output_type": "stream",
     "text": [
      "-----------------------------------------\n",
      "The given message:  i am busy i will msg you later\n",
      "\n",
      "Prob that the given message is spam =  1.0829429792459005e-15\n",
      "\n",
      "Prob that the given message is ham =  3.835668952903523e-13\n",
      "------------------------------------------\n",
      "Result:  ham\n"
     ]
    }
   ],
   "source": [
    "result = predict(new_words[0],prob_message_is_spam,prob_message_is_ham,prob_of_wk_given_spam_message,prob_of_wk_given_ham_message,vocab)\n",
    "print('Result: ', result[1])\n"
   ]
  },
  {
   "cell_type": "code",
   "execution_count": 36,
   "metadata": {},
   "outputs": [
    {
     "name": "stdout",
     "output_type": "stream",
     "text": [
      "-----------------------------------------\n",
      "The given message:  congrats you are awarded a free mobile\n",
      "\n",
      "Prob that the given message is spam =  3.0701433461621255e-12\n",
      "\n",
      "Prob that the given message is ham =  1.1237311385459537e-13\n",
      "------------------------------------------\n",
      "Result:  spam\n"
     ]
    }
   ],
   "source": [
    "result = predict(new_words[1],prob_message_is_spam,prob_message_is_ham,prob_of_wk_given_spam_message,prob_of_wk_given_ham_message,vocab)\n",
    "print('Result: ', result[1])"
   ]
  },
  {
   "cell_type": "code",
   "execution_count": null,
   "metadata": {},
   "outputs": [],
   "source": []
  }
 ],
 "metadata": {
  "kernelspec": {
   "display_name": "Python 3 (ipykernel)",
   "language": "python",
   "name": "python3"
  },
  "language_info": {
   "codemirror_mode": {
    "name": "ipython",
    "version": 3
   },
   "file_extension": ".py",
   "mimetype": "text/x-python",
   "name": "python",
   "nbconvert_exporter": "python",
   "pygments_lexer": "ipython3",
   "version": "3.9.7"
  }
 },
 "nbformat": 4,
 "nbformat_minor": 4
}
